{
 "cells": [
  {
   "cell_type": "markdown",
   "id": "bb1758e3",
   "metadata": {},
   "source": [
    "## 1.\tImport the necessary package to\n",
    "## a.\tSet the current working directory\n",
    "## b.\tChange the working directory\n"
   ]
  },
  {
   "cell_type": "code",
   "execution_count": 177,
   "id": "6d74d4fc",
   "metadata": {},
   "outputs": [],
   "source": [
    "import os"
   ]
  },
  {
   "cell_type": "code",
   "execution_count": 181,
   "id": "b041d35e",
   "metadata": {},
   "outputs": [
    {
     "data": {
      "text/plain": [
       "'C:\\\\Users\\\\kalya\\\\Santhosh\\\\Data Science\\\\Notebook'"
      ]
     },
     "execution_count": 181,
     "metadata": {},
     "output_type": "execute_result"
    }
   ],
   "source": [
    "os.getcwd()"
   ]
  },
  {
   "cell_type": "markdown",
   "id": "05b44a06",
   "metadata": {},
   "source": [
    "### 2.\tCreate the string, int and float variable and delete them all in the next cell"
   ]
  },
  {
   "cell_type": "code",
   "execution_count": 16,
   "id": "d0efc310",
   "metadata": {},
   "outputs": [
    {
     "data": {
      "text/plain": [
       "int"
      ]
     },
     "metadata": {},
     "output_type": "display_data"
    },
    {
     "data": {
      "text/plain": [
       "':'"
      ]
     },
     "metadata": {},
     "output_type": "display_data"
    },
    {
     "data": {
      "text/plain": [
       "10"
      ]
     },
     "metadata": {},
     "output_type": "display_data"
    },
    {
     "data": {
      "text/plain": [
       "float"
      ]
     },
     "metadata": {},
     "output_type": "display_data"
    },
    {
     "data": {
      "text/plain": [
       "str"
      ]
     },
     "metadata": {},
     "output_type": "display_data"
    }
   ],
   "source": [
    "num=10;flt=111.5;strg='santhosh'\n",
    "display(type(num),':',num);\n",
    "display(type(flt));\n",
    "display(type(strg));"
   ]
  },
  {
   "cell_type": "code",
   "execution_count": 17,
   "id": "68e2c0ff",
   "metadata": {
    "scrolled": true
   },
   "outputs": [
    {
     "ename": "NameError",
     "evalue": "name 'num' is not defined",
     "output_type": "error",
     "traceback": [
      "\u001b[1;31m---------------------------------------------------------------------------\u001b[0m",
      "\u001b[1;31mNameError\u001b[0m                                 Traceback (most recent call last)",
      "\u001b[1;32m~\\AppData\\Local\\Temp/ipykernel_132504/73332835.py\u001b[0m in \u001b[0;36m<module>\u001b[1;34m\u001b[0m\n\u001b[0;32m      1\u001b[0m \u001b[1;32mdel\u001b[0m \u001b[0mnum\u001b[0m\u001b[1;33m,\u001b[0m\u001b[0mflt\u001b[0m\u001b[1;33m,\u001b[0m\u001b[0mstrg\u001b[0m\u001b[1;33m\u001b[0m\u001b[1;33m\u001b[0m\u001b[0m\n\u001b[1;32m----> 2\u001b[1;33m \u001b[0mdisplay\u001b[0m\u001b[1;33m(\u001b[0m\u001b[0mnum\u001b[0m\u001b[1;33m)\u001b[0m\u001b[1;33m\u001b[0m\u001b[1;33m\u001b[0m\u001b[0m\n\u001b[0m\u001b[0;32m      3\u001b[0m \u001b[0mdisplay\u001b[0m\u001b[1;33m(\u001b[0m\u001b[0mstrg\u001b[0m\u001b[1;33m)\u001b[0m\u001b[1;33m\u001b[0m\u001b[1;33m\u001b[0m\u001b[0m\n",
      "\u001b[1;31mNameError\u001b[0m: name 'num' is not defined"
     ]
    }
   ],
   "source": [
    "del num,flt,strg\n",
    "display(num)\n",
    "display(strg)"
   ]
  },
  {
   "cell_type": "markdown",
   "id": "e5d7de4c",
   "metadata": {},
   "source": [
    "## 3.\tWhat’s the result of assigning a value to a ‘keyword’?\n",
    "## a.\tPlease highlight the error\n"
   ]
  },
  {
   "cell_type": "code",
   "execution_count": 23,
   "id": "b977e31e",
   "metadata": {
    "scrolled": true
   },
   "outputs": [
    {
     "ename": "SyntaxError",
     "evalue": "invalid syntax (Temp/ipykernel_132504/2570036723.py, line 1)",
     "output_type": "error",
     "traceback": [
      "\u001b[1;36m  File \u001b[1;32m\"C:\\Users\\kalya\\AppData\\Local\\Temp/ipykernel_132504/2570036723.py\"\u001b[1;36m, line \u001b[1;32m1\u001b[0m\n\u001b[1;33m    def=10\u001b[0m\n\u001b[1;37m       ^\u001b[0m\n\u001b[1;31mSyntaxError\u001b[0m\u001b[1;31m:\u001b[0m invalid syntax\n"
     ]
    }
   ],
   "source": [
    "def=10"
   ]
  },
  {
   "cell_type": "markdown",
   "id": "e2cfce14",
   "metadata": {},
   "source": [
    "## 4.\tHow to write a multi-line statement and assign it to a variable (Note: Without using a backslash “\\” at the end of each line)"
   ]
  },
  {
   "cell_type": "code",
   "execution_count": 24,
   "id": "6af948cf",
   "metadata": {},
   "outputs": [],
   "source": [
    "digit2=(1+32+33 +4+   ## multi line code\n",
    "5+6\n",
    "+7)"
   ]
  },
  {
   "cell_type": "code",
   "execution_count": 25,
   "id": "01aea6d0",
   "metadata": {},
   "outputs": [
    {
     "data": {
      "text/plain": [
       "88"
      ]
     },
     "metadata": {},
     "output_type": "display_data"
    }
   ],
   "source": [
    "display(digit2)"
   ]
  },
  {
   "cell_type": "markdown",
   "id": "b56baba3",
   "metadata": {},
   "source": [
    "## 5.\tPrint the list of numbers from 100 to 999 with an interval (step size) of 8 between the numbers"
   ]
  },
  {
   "cell_type": "code",
   "execution_count": 34,
   "id": "8306d67c",
   "metadata": {
    "scrolled": true
   },
   "outputs": [
    {
     "name": "stdout",
     "output_type": "stream",
     "text": [
      "[100, 108, 116, 124, 132, 140, 148, 156, 164, 172, 180, 188, 196, 204, 212, 220, 228, 236, 244, 252, 260, 268, 276, 284, 292, 300, 308, 316, 324, 332, 340, 348, 356, 364, 372, 380, 388, 396, 404, 412, 420, 428, 436, 444, 452, 460, 468, 476, 484, 492, 500, 508, 516, 524, 532, 540, 548, 556, 564, 572, 580, 588, 596, 604, 612, 620, 628, 636, 644, 652, 660, 668, 676, 684, 692, 700, 708, 716, 724, 732, 740, 748, 756, 764, 772, 780, 788, 796, 804, 812, 820, 828, 836, 844, 852, 860, 868, 876, 884, 892, 900, 908, 916, 924, 932, 940, 948, 956, 964, 972, 980, 988, 996]\n"
     ]
    }
   ],
   "source": [
    "##list(range(100,999,8))\n",
    "##print(list(range(100,999,8)))   ## indendation\n",
    "x=list(range(100,999,8)) \n",
    "print(x)"
   ]
  },
  {
   "cell_type": "markdown",
   "id": "7334ae26",
   "metadata": {},
   "source": [
    "## 6.\tWrite a “for” loop to print out the ‘n’ values and break out of the statement if the value is ‘n/2’"
   ]
  },
  {
   "cell_type": "code",
   "execution_count": 48,
   "id": "cdcb6c7d",
   "metadata": {},
   "outputs": [
    {
     "name": "stdout",
     "output_type": "stream",
     "text": [
      "1\n",
      "for loop ended\n"
     ]
    }
   ],
   "source": [
    "##power2= [a for a in range(11) if a%2==0]   \n",
    "##print(power2)\n",
    "n=1\n",
    "m=2\n",
    "for a in range(n,m):\n",
    "    if(a%2==0):\n",
    "        break;\n",
    "    else:\n",
    "        print(a)\n",
    "        n=n+1\n",
    "print('for loop ended')"
   ]
  },
  {
   "cell_type": "markdown",
   "id": "01b16295",
   "metadata": {},
   "source": [
    "## 7.\tWrite a simple function and call the docstring from outside the function"
   ]
  },
  {
   "cell_type": "code",
   "execution_count": 91,
   "id": "3b92c6f9",
   "metadata": {},
   "outputs": [
    {
     "name": "stdout",
     "output_type": "stream",
     "text": [
      "this function is for addition, subtraction,\n",
      "    multiplication and division will be returned\n",
      "700\n"
     ]
    }
   ],
   "source": [
    "def calcul(oper,a,b):\n",
    "    '''this function is for addition, subtraction,\n",
    "    multiplication and division will be returned'''\n",
    "    c=0;\n",
    "    if(oper=='a'):\n",
    "        c=a+b\n",
    "    else:\n",
    "        if(oper=='s'):\n",
    "            c=a-b\n",
    "        else:\n",
    "            if(oper=='m'):\n",
    "                c=a*b\n",
    "            else:\n",
    "                if(oper=='d'):\n",
    "                    c=a/b\n",
    "    return c\n",
    "\n",
    "i=20;j=35;k=0;\n",
    "typ='m'\n",
    "if(i>j and (typ=='s' or typ=='d')):\n",
    "    print(calcul.__doc__)\n",
    "    k=calcul(typ,i,j)\n",
    "    print(k)\n",
    "else:\n",
    "    if(typ=='a' or typ=='m'):\n",
    "        print(calcul.__doc__)\n",
    "        k=calcul(typ,i,j)\n",
    "    else:\n",
    "        print('invalid values entered for the operation')\n",
    "print(k)"
   ]
  },
  {
   "cell_type": "markdown",
   "id": "f035c2fe",
   "metadata": {},
   "source": [
    "## 8.\tCreate a user-defined package in ‘site-packages’ with below 3 variables a, b and c. Import these variables and write a function to calculate the area of triangle for below 3 sides (a, b, c). Calculate the semi-perimeter (s) first, to calculate the area of triangle (area) at last\n",
    "## <Formula to calculate semi-perimeter: s = (a+b+c )/2\n",
    "##  <<Formula to calculatearea = (s*(s-a)*(s-b)*(s-c)) ** 0.5>>\n",
    "    \n",
    "## a.\t15    \n",
    "## b.\t51    \n",
    "## c.\t17\n"
   ]
  },
  {
   "cell_type": "code",
   "execution_count": 114,
   "id": "a40c59b2",
   "metadata": {},
   "outputs": [],
   "source": [
    "from area_calculator import area_cal1"
   ]
  },
  {
   "cell_type": "code",
   "execution_count": 118,
   "id": "96a36843",
   "metadata": {},
   "outputs": [
    {
     "name": "stdout",
     "output_type": "stream",
     "text": [
      "7.59375\n"
     ]
    }
   ],
   "source": [
    "a=area_cal1.area_func(3,3,3)\n",
    "print(a)"
   ]
  },
  {
   "cell_type": "markdown",
   "id": "4b6de3a6",
   "metadata": {},
   "source": [
    "## 9.\tWrite a list comprehension to print the odd numbers from 0 to 100"
   ]
  },
  {
   "cell_type": "code",
   "execution_count": 133,
   "id": "2353705e",
   "metadata": {},
   "outputs": [
    {
     "name": "stdout",
     "output_type": "stream",
     "text": [
      "[1, 3, 5, 7, 9, 11, 13, 15, 17, 19, 21, 23, 25, 27, 29, 31, 33, 35, 37, 39, 41, 43, 45, 47, 49, 51, 53, 55, 57, 59, 61, 63, 65, 67, 69, 71, 73, 75, 77, 79, 81, 83, 85, 87, 89, 91, 93, 95, 97, 99]\n"
     ]
    }
   ],
   "source": [
    "list1 = list(range(100))\n",
    "#[i for i in list1 if(i%2 != 0)] \n",
    "x= [i for i in list1 if(i%2 != 0)] \n",
    "print(x)\n",
    "\n",
    "##for i in list1:\n",
    "##    if(i%2 !=0): print(i)\n"
   ]
  },
  {
   "cell_type": "markdown",
   "id": "5abade14",
   "metadata": {},
   "source": [
    "## Create a variable (ex: name) and store your full name in it. Then write a list comprehension to print your name excluding vowels (a, e, i, o, u)\n",
    "## a.\tEx: name = Imran\n",
    "## b.\tOutput = [‘m’, ‘r’, ‘n’]\n"
   ]
  },
  {
   "cell_type": "code",
   "execution_count": 175,
   "id": "dba7a5d6",
   "metadata": {},
   "outputs": [
    {
     "name": "stdout",
     "output_type": "stream",
     "text": [
      "['s', 'n', 't', 'h', 's', 'h', ' ', 'k', 'm', 'r']\n"
     ]
    }
   ],
   "source": [
    "vowels1='aeiou'\n",
    "##vowels1='aeiou'\n",
    "name='santhosh kumar'\n",
    "nonvowels=[i for i in name if i not in vowels1]\n",
    "print(nonvowels)"
   ]
  },
  {
   "cell_type": "code",
   "execution_count": null,
   "id": "8b03ae4d",
   "metadata": {},
   "outputs": [],
   "source": []
  }
 ],
 "metadata": {
  "kernelspec": {
   "display_name": "Python 3 (ipykernel)",
   "language": "python",
   "name": "python3"
  },
  "language_info": {
   "codemirror_mode": {
    "name": "ipython",
    "version": 3
   },
   "file_extension": ".py",
   "mimetype": "text/x-python",
   "name": "python",
   "nbconvert_exporter": "python",
   "pygments_lexer": "ipython3",
   "version": "3.9.7"
  }
 },
 "nbformat": 4,
 "nbformat_minor": 5
}
